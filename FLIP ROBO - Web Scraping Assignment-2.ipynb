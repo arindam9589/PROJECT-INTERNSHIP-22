{
 "cells": [
  {
   "cell_type": "code",
   "execution_count": 2,
   "id": "4019e3fb",
   "metadata": {},
   "outputs": [
    {
     "name": "stdout",
     "output_type": "stream",
     "text": [
      "Requirement already satisfied: selenium in c:\\users\\priyanka\\anaconda3\\lib\\site-packages (4.1.0)\n",
      "Requirement already satisfied: trio-websocket~=0.9 in c:\\users\\priyanka\\anaconda3\\lib\\site-packages (from selenium) (0.9.2)\n",
      "Requirement already satisfied: urllib3[secure]~=1.26 in c:\\users\\priyanka\\anaconda3\\lib\\site-packages (from selenium) (1.26.4)\n",
      "Requirement already satisfied: trio~=0.17 in c:\\users\\priyanka\\anaconda3\\lib\\site-packages (from selenium) (0.19.0)\n",
      "Requirement already satisfied: attrs>=19.2.0 in c:\\users\\priyanka\\anaconda3\\lib\\site-packages (from trio~=0.17->selenium) (20.3.0)\n",
      "Requirement already satisfied: idna in c:\\users\\priyanka\\anaconda3\\lib\\site-packages (from trio~=0.17->selenium) (2.10)\n",
      "Requirement already satisfied: cffi>=1.14 in c:\\users\\priyanka\\anaconda3\\lib\\site-packages (from trio~=0.17->selenium) (1.14.5)\n",
      "Requirement already satisfied: outcome in c:\\users\\priyanka\\anaconda3\\lib\\site-packages (from trio~=0.17->selenium) (1.1.0)\n",
      "Requirement already satisfied: sniffio in c:\\users\\priyanka\\anaconda3\\lib\\site-packages (from trio~=0.17->selenium) (1.2.0)\n",
      "Requirement already satisfied: async-generator>=1.9 in c:\\users\\priyanka\\anaconda3\\lib\\site-packages (from trio~=0.17->selenium) (1.10)\n",
      "Requirement already satisfied: sortedcontainers in c:\\users\\priyanka\\anaconda3\\lib\\site-packages (from trio~=0.17->selenium) (2.3.0)\n",
      "Requirement already satisfied: pycparser in c:\\users\\priyanka\\anaconda3\\lib\\site-packages (from cffi>=1.14->trio~=0.17->selenium) (2.20)\n",
      "Requirement already satisfied: wsproto>=0.14 in c:\\users\\priyanka\\anaconda3\\lib\\site-packages (from trio-websocket~=0.9->selenium) (1.0.0)\n",
      "Requirement already satisfied: certifi in c:\\users\\priyanka\\anaconda3\\lib\\site-packages (from urllib3[secure]~=1.26->selenium) (2020.12.5)\n",
      "Requirement already satisfied: cryptography>=1.3.4 in c:\\users\\priyanka\\anaconda3\\lib\\site-packages (from urllib3[secure]~=1.26->selenium) (3.4.7)\n",
      "Requirement already satisfied: pyOpenSSL>=0.14 in c:\\users\\priyanka\\anaconda3\\lib\\site-packages (from urllib3[secure]~=1.26->selenium) (20.0.1)\n",
      "Requirement already satisfied: six>=1.5.2 in c:\\users\\priyanka\\anaconda3\\lib\\site-packages (from pyOpenSSL>=0.14->urllib3[secure]~=1.26->selenium) (1.15.0)\n",
      "Requirement already satisfied: h11<1,>=0.9.0 in c:\\users\\priyanka\\anaconda3\\lib\\site-packages (from wsproto>=0.14->trio-websocket~=0.9->selenium) (0.12.0)\n"
     ]
    }
   ],
   "source": [
    "! pip install selenium"
   ]
  },
  {
   "cell_type": "code",
   "execution_count": 3,
   "id": "61acc27d",
   "metadata": {},
   "outputs": [],
   "source": [
    "import selenium\n",
    "import pandas as pd\n",
    "from selenium import webdriver\n",
    "import warnings\n",
    "warnings.simplefilter(\"ignore\")"
   ]
  },
  {
   "cell_type": "code",
   "execution_count": 44,
   "id": "c5679949",
   "metadata": {},
   "outputs": [],
   "source": [
    "driver = webdriver.Chrome (r\"C:/Users/PRIYANKA/Downloads/chromedriver_win32/chromedriver.exe\")"
   ]
  },
  {
   "cell_type": "code",
   "execution_count": 6,
   "id": "f40563a7",
   "metadata": {},
   "outputs": [],
   "source": [
    "driver.get('https://www.naukri.com/')"
   ]
  },
  {
   "cell_type": "code",
   "execution_count": 7,
   "id": "5d7f69c2",
   "metadata": {},
   "outputs": [],
   "source": [
    "search_job = driver.find_element_by_id('qsb-keyword-sugg')\n",
    "search_job.send_keys(\"Data Analyst\")\n",
    "search_loc = driver.find_element_by_xpath(\"//input[@id='qsb-location-sugg']\")\n",
    "search_loc.send_keys(\"Bangalore\")"
   ]
  },
  {
   "cell_type": "code",
   "execution_count": 8,
   "id": "b1c2303f",
   "metadata": {},
   "outputs": [],
   "source": [
    "search_btn = driver.find_element_by_xpath(\"//div[@class='search-btn']/button\")\n",
    "search_btn.click()"
   ]
  },
  {
   "cell_type": "code",
   "execution_count": 9,
   "id": "9bdf35fb",
   "metadata": {},
   "outputs": [],
   "source": [
    "job_titles = []"
   ]
  },
  {
   "cell_type": "code",
   "execution_count": 10,
   "id": "33cad04b",
   "metadata": {},
   "outputs": [
    {
     "data": {
      "text/plain": [
       "[<selenium.webdriver.remote.webelement.WebElement (session=\"c46688d191fca12ba6ec0143ebb70dd5\", element=\"7a77d6cb-c123-4ca4-bb5e-1a29d270be28\")>,\n",
       " <selenium.webdriver.remote.webelement.WebElement (session=\"c46688d191fca12ba6ec0143ebb70dd5\", element=\"71ecc492-edac-494b-b4c9-0f9ffba25469\")>,\n",
       " <selenium.webdriver.remote.webelement.WebElement (session=\"c46688d191fca12ba6ec0143ebb70dd5\", element=\"70f42557-5a4b-4520-a657-9eeda433e4a1\")>,\n",
       " <selenium.webdriver.remote.webelement.WebElement (session=\"c46688d191fca12ba6ec0143ebb70dd5\", element=\"311e0077-d998-4cfc-9f24-7eb2e05dfaa2\")>,\n",
       " <selenium.webdriver.remote.webelement.WebElement (session=\"c46688d191fca12ba6ec0143ebb70dd5\", element=\"28d1d1ff-0e32-43bc-84de-0770af068dff\")>,\n",
       " <selenium.webdriver.remote.webelement.WebElement (session=\"c46688d191fca12ba6ec0143ebb70dd5\", element=\"1f0d2c51-d2f6-473b-b6f3-af428f748868\")>,\n",
       " <selenium.webdriver.remote.webelement.WebElement (session=\"c46688d191fca12ba6ec0143ebb70dd5\", element=\"31928659-4b43-4212-8de2-c7356286a1f6\")>,\n",
       " <selenium.webdriver.remote.webelement.WebElement (session=\"c46688d191fca12ba6ec0143ebb70dd5\", element=\"06bbe765-fd67-4898-8e0b-d1b373c86967\")>,\n",
       " <selenium.webdriver.remote.webelement.WebElement (session=\"c46688d191fca12ba6ec0143ebb70dd5\", element=\"b09e61b7-4192-4bac-b2be-6949404a38e8\")>,\n",
       " <selenium.webdriver.remote.webelement.WebElement (session=\"c46688d191fca12ba6ec0143ebb70dd5\", element=\"5b0473f6-5698-49ef-bf52-bf7bf5603036\")>]"
      ]
     },
     "execution_count": 10,
     "metadata": {},
     "output_type": "execute_result"
    }
   ],
   "source": [
    "title_tags = driver.find_elements_by_xpath(\"//a[@class='title fw500 ellipsis']\")\n",
    "title_tags[0:10]"
   ]
  },
  {
   "cell_type": "code",
   "execution_count": 11,
   "id": "09074ae8",
   "metadata": {},
   "outputs": [
    {
     "data": {
      "text/plain": [
       "['Hiring -Data Analyst, Business Analyst, MIS Analyst -3rd Party Payroll',\n",
       " 'Senior Data Analyst III',\n",
       " 'Business Analyst/ Data Analyst- Capital Market & SQL (Mandatory)',\n",
       " 'Customer Data Management Analyst',\n",
       " 'Data Analyst',\n",
       " 'Assistant/deputy Manager - Geo-spatial Data Analyst',\n",
       " 'Senior Data Analyst',\n",
       " 'Senior Data Analyst',\n",
       " 'Senior Data Analyst',\n",
       " 'Openings For SQL Data Analyst']"
      ]
     },
     "execution_count": 11,
     "metadata": {},
     "output_type": "execute_result"
    }
   ],
   "source": [
    "for i in title_tags:\n",
    "    title = i.text\n",
    "    job_titles.append(title)\n",
    "job_titles[0:10]"
   ]
  },
  {
   "cell_type": "code",
   "execution_count": 12,
   "id": "327e11c6",
   "metadata": {},
   "outputs": [
    {
     "data": {
      "text/html": [
       "<div>\n",
       "<style scoped>\n",
       "    .dataframe tbody tr th:only-of-type {\n",
       "        vertical-align: middle;\n",
       "    }\n",
       "\n",
       "    .dataframe tbody tr th {\n",
       "        vertical-align: top;\n",
       "    }\n",
       "\n",
       "    .dataframe thead th {\n",
       "        text-align: right;\n",
       "    }\n",
       "</style>\n",
       "<table border=\"1\" class=\"dataframe\">\n",
       "  <thead>\n",
       "    <tr style=\"text-align: right;\">\n",
       "      <th></th>\n",
       "      <th>Title</th>\n",
       "    </tr>\n",
       "  </thead>\n",
       "  <tbody>\n",
       "    <tr>\n",
       "      <th>0</th>\n",
       "      <td>Hiring -Data Analyst, Business Analyst, MIS An...</td>\n",
       "    </tr>\n",
       "    <tr>\n",
       "      <th>1</th>\n",
       "      <td>Senior Data Analyst III</td>\n",
       "    </tr>\n",
       "    <tr>\n",
       "      <th>2</th>\n",
       "      <td>Business Analyst/ Data Analyst- Capital Market...</td>\n",
       "    </tr>\n",
       "    <tr>\n",
       "      <th>3</th>\n",
       "      <td>Customer Data Management Analyst</td>\n",
       "    </tr>\n",
       "    <tr>\n",
       "      <th>4</th>\n",
       "      <td>Data Analyst</td>\n",
       "    </tr>\n",
       "    <tr>\n",
       "      <th>5</th>\n",
       "      <td>Assistant/deputy Manager - Geo-spatial Data An...</td>\n",
       "    </tr>\n",
       "    <tr>\n",
       "      <th>6</th>\n",
       "      <td>Senior Data Analyst</td>\n",
       "    </tr>\n",
       "    <tr>\n",
       "      <th>7</th>\n",
       "      <td>Senior Data Analyst</td>\n",
       "    </tr>\n",
       "    <tr>\n",
       "      <th>8</th>\n",
       "      <td>Senior Data Analyst</td>\n",
       "    </tr>\n",
       "    <tr>\n",
       "      <th>9</th>\n",
       "      <td>Openings For SQL Data Analyst</td>\n",
       "    </tr>\n",
       "  </tbody>\n",
       "</table>\n",
       "</div>"
      ],
      "text/plain": [
       "                                               Title\n",
       "0  Hiring -Data Analyst, Business Analyst, MIS An...\n",
       "1                            Senior Data Analyst III\n",
       "2  Business Analyst/ Data Analyst- Capital Market...\n",
       "3                   Customer Data Management Analyst\n",
       "4                                       Data Analyst\n",
       "5  Assistant/deputy Manager - Geo-spatial Data An...\n",
       "6                                Senior Data Analyst\n",
       "7                                Senior Data Analyst\n",
       "8                                Senior Data Analyst\n",
       "9                      Openings For SQL Data Analyst"
      ]
     },
     "execution_count": 12,
     "metadata": {},
     "output_type": "execute_result"
    }
   ],
   "source": [
    "jobs = pd.DataFrame({})\n",
    "jobs ['Title'] =  job_titles\n",
    "jobs[0:10]"
   ]
  },
  {
   "cell_type": "code",
   "execution_count": 13,
   "id": "ba0d9652",
   "metadata": {},
   "outputs": [],
   "source": [
    "driver.get('https://www.naukri.com/')"
   ]
  },
  {
   "cell_type": "code",
   "execution_count": 14,
   "id": "0b2152f6",
   "metadata": {},
   "outputs": [],
   "source": [
    "search_job = driver.find_element_by_id('qsb-keyword-sugg')\n",
    "search_job.send_keys(\"Data Scientist\")\n",
    "search_loc = driver.find_element_by_xpath(\"//input[@id='qsb-location-sugg']\")\n",
    "search_loc.send_keys(\"Bangalore\")"
   ]
  },
  {
   "cell_type": "code",
   "execution_count": 15,
   "id": "52962faf",
   "metadata": {},
   "outputs": [],
   "source": [
    "search_btn = driver.find_element_by_xpath(\"//div[@class='search-btn']/button\")\n",
    "search_btn.click()"
   ]
  },
  {
   "cell_type": "code",
   "execution_count": 16,
   "id": "55dccac2",
   "metadata": {},
   "outputs": [],
   "source": [
    "job_titles_dsc = []"
   ]
  },
  {
   "cell_type": "code",
   "execution_count": 17,
   "id": "ead82b9c",
   "metadata": {},
   "outputs": [
    {
     "data": {
      "text/plain": [
       "[<selenium.webdriver.remote.webelement.WebElement (session=\"c46688d191fca12ba6ec0143ebb70dd5\", element=\"62445f7c-40a2-4adc-a84c-9431b566acb4\")>,\n",
       " <selenium.webdriver.remote.webelement.WebElement (session=\"c46688d191fca12ba6ec0143ebb70dd5\", element=\"c352200c-930f-4ba9-998c-fdcc12ae0688\")>,\n",
       " <selenium.webdriver.remote.webelement.WebElement (session=\"c46688d191fca12ba6ec0143ebb70dd5\", element=\"97f73534-2ce7-4c07-8402-8d0bb1cfc9dc\")>,\n",
       " <selenium.webdriver.remote.webelement.WebElement (session=\"c46688d191fca12ba6ec0143ebb70dd5\", element=\"95628ab8-3f32-4795-ba95-54b7e3ccfa80\")>,\n",
       " <selenium.webdriver.remote.webelement.WebElement (session=\"c46688d191fca12ba6ec0143ebb70dd5\", element=\"c7747ec2-a6f9-4c97-b0cf-5810bf53abca\")>,\n",
       " <selenium.webdriver.remote.webelement.WebElement (session=\"c46688d191fca12ba6ec0143ebb70dd5\", element=\"2aa5be65-8990-4435-9c26-8a38e846630c\")>,\n",
       " <selenium.webdriver.remote.webelement.WebElement (session=\"c46688d191fca12ba6ec0143ebb70dd5\", element=\"6f34c01d-80ed-41bd-9c7e-5ba121cb2e02\")>,\n",
       " <selenium.webdriver.remote.webelement.WebElement (session=\"c46688d191fca12ba6ec0143ebb70dd5\", element=\"020eb749-5eb9-47b7-94fe-ef9080d1203c\")>,\n",
       " <selenium.webdriver.remote.webelement.WebElement (session=\"c46688d191fca12ba6ec0143ebb70dd5\", element=\"79689792-df16-4103-a1f7-5924bbe150f3\")>,\n",
       " <selenium.webdriver.remote.webelement.WebElement (session=\"c46688d191fca12ba6ec0143ebb70dd5\", element=\"16d90290-26fd-4fd9-a396-d3e8055a7d97\")>]"
      ]
     },
     "execution_count": 17,
     "metadata": {},
     "output_type": "execute_result"
    }
   ],
   "source": [
    "title_tags_dsc = driver.find_elements_by_xpath(\"//a[@class='title fw500 ellipsis']\")\n",
    "title_tags_dsc[0:10]"
   ]
  },
  {
   "cell_type": "code",
   "execution_count": 18,
   "id": "6314415e",
   "metadata": {},
   "outputs": [
    {
     "data": {
      "text/plain": [
       "['Lead / Principal Data Scientist',\n",
       " 'Data Scientist',\n",
       " 'Senior Data Scientist',\n",
       " 'Senior Data Scientist',\n",
       " 'Data Scientist - Credit Risk',\n",
       " 'Lead/Senior Data Scientist (NLP)',\n",
       " 'Data Scientist 2',\n",
       " 'Machine Learning AI Data Scientist',\n",
       " 'Sr. Associate Consultant Data Scientist',\n",
       " 'Senior Engineer - AIML - Data Scientist']"
      ]
     },
     "execution_count": 18,
     "metadata": {},
     "output_type": "execute_result"
    }
   ],
   "source": [
    "for i in title_tags_dsc:\n",
    "    title = i.text\n",
    "    job_titles_dsc.append(title)\n",
    "job_titles_dsc[0:10]"
   ]
  },
  {
   "cell_type": "code",
   "execution_count": 26,
   "id": "edd8f460",
   "metadata": {},
   "outputs": [
    {
     "data": {
      "text/html": [
       "<div>\n",
       "<style scoped>\n",
       "    .dataframe tbody tr th:only-of-type {\n",
       "        vertical-align: middle;\n",
       "    }\n",
       "\n",
       "    .dataframe tbody tr th {\n",
       "        vertical-align: top;\n",
       "    }\n",
       "\n",
       "    .dataframe thead th {\n",
       "        text-align: right;\n",
       "    }\n",
       "</style>\n",
       "<table border=\"1\" class=\"dataframe\">\n",
       "  <thead>\n",
       "    <tr style=\"text-align: right;\">\n",
       "      <th></th>\n",
       "      <th>Title Data Scientist</th>\n",
       "    </tr>\n",
       "  </thead>\n",
       "  <tbody>\n",
       "    <tr>\n",
       "      <th>0</th>\n",
       "      <td>Lead / Principal Data Scientist</td>\n",
       "    </tr>\n",
       "    <tr>\n",
       "      <th>1</th>\n",
       "      <td>Data Scientist</td>\n",
       "    </tr>\n",
       "    <tr>\n",
       "      <th>2</th>\n",
       "      <td>Senior Data Scientist</td>\n",
       "    </tr>\n",
       "    <tr>\n",
       "      <th>3</th>\n",
       "      <td>Senior Data Scientist</td>\n",
       "    </tr>\n",
       "    <tr>\n",
       "      <th>4</th>\n",
       "      <td>Data Scientist - Credit Risk</td>\n",
       "    </tr>\n",
       "    <tr>\n",
       "      <th>5</th>\n",
       "      <td>Lead/Senior Data Scientist (NLP)</td>\n",
       "    </tr>\n",
       "    <tr>\n",
       "      <th>6</th>\n",
       "      <td>Data Scientist 2</td>\n",
       "    </tr>\n",
       "    <tr>\n",
       "      <th>7</th>\n",
       "      <td>Machine Learning AI Data Scientist</td>\n",
       "    </tr>\n",
       "    <tr>\n",
       "      <th>8</th>\n",
       "      <td>Sr. Associate Consultant Data Scientist</td>\n",
       "    </tr>\n",
       "    <tr>\n",
       "      <th>9</th>\n",
       "      <td>Senior Engineer - AIML - Data Scientist</td>\n",
       "    </tr>\n",
       "  </tbody>\n",
       "</table>\n",
       "</div>"
      ],
      "text/plain": [
       "                      Title Data Scientist\n",
       "0          Lead / Principal Data Scientist\n",
       "1                           Data Scientist\n",
       "2                    Senior Data Scientist\n",
       "3                    Senior Data Scientist\n",
       "4             Data Scientist - Credit Risk\n",
       "5         Lead/Senior Data Scientist (NLP)\n",
       "6                         Data Scientist 2\n",
       "7       Machine Learning AI Data Scientist\n",
       "8  Sr. Associate Consultant Data Scientist\n",
       "9  Senior Engineer - AIML - Data Scientist"
      ]
     },
     "execution_count": 26,
     "metadata": {},
     "output_type": "execute_result"
    }
   ],
   "source": [
    "jobs = pd.DataFrame({})\n",
    "jobs ['Title Data Scientist'] =  job_titles_dsc\n",
    "jobs[0:10]"
   ]
  },
  {
   "cell_type": "code",
   "execution_count": null,
   "id": "eac4c737",
   "metadata": {},
   "outputs": [],
   "source": []
  }
 ],
 "metadata": {
  "kernelspec": {
   "display_name": "Python 3",
   "language": "python",
   "name": "python3"
  },
  "language_info": {
   "codemirror_mode": {
    "name": "ipython",
    "version": 3
   },
   "file_extension": ".py",
   "mimetype": "text/x-python",
   "name": "python",
   "nbconvert_exporter": "python",
   "pygments_lexer": "ipython3",
   "version": "3.8.8"
  }
 },
 "nbformat": 4,
 "nbformat_minor": 5
}
